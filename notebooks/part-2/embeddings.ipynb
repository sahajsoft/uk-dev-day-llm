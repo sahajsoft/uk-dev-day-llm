{
 "cells": [
  {
   "cell_type": "code",
   "execution_count": null,
   "id": "840f6346-e3d1-459a-a92a-0f65700934b9",
   "metadata": {},
   "outputs": [],
   "source": [
    "import ollama\n",
    "\n",
    "# nomic-embed-text has a dimention of 768\n",
    "print(ollama.embeddings(model='nomic-embed-text', prompt='hello i am a chatbot')['embedding'])"
   ]
  },
  {
   "cell_type": "code",
   "execution_count": null,
   "id": "ecb324ea",
   "metadata": {},
   "outputs": [],
   "source": [
    "import ollama\n",
    "import numpy as np\n",
    "import matplotlib.pyplot as plt\n",
    "from mpl_toolkits.mplot3d import Axes3D\n",
    "from sklearn.decomposition import PCA\n",
    "\n",
    "def plot_embeddings_3d(words, embedding_model='nomic-embed-text'):\n",
    "    # Dictionary to store embeddings\n",
    "    vector_store = {}\n",
    "    \n",
    "    # Generate embeddings using ollama\n",
    "    for word in words:\n",
    "        embedding = ollama.embeddings(model=embedding_model, prompt=word)\n",
    "        vector_store[word] = embedding['embedding']  # Assuming the embedding is stored under 'embedding' key\n",
    "    \n",
    "    # Convert embeddings to a numpy array for PCA\n",
    "    embeddings = np.array([vector_store[word] for word in words])\n",
    "    \n",
    "    # Apply PCA to reduce to 3 dimensions\n",
    "    pca = PCA(n_components=3)\n",
    "    reduced_embeddings = pca.fit_transform(embeddings)\n",
    "    \n",
    "    # Plot the 3D graph\n",
    "    fig = plt.figure()\n",
    "    ax = fig.add_subplot(111, projection='3d')\n",
    "    \n",
    "    # Plot each word in the 3D space\n",
    "    for i, word in enumerate(words):\n",
    "        ax.scatter(reduced_embeddings[i, 0], reduced_embeddings[i, 1], reduced_embeddings[i, 2], label=word)\n",
    "        ax.text(reduced_embeddings[i, 0], reduced_embeddings[i, 1], reduced_embeddings[i, 2], word)\n",
    "    \n",
    "    # Set labels for the axes\n",
    "    ax.set_xlabel('PCA1')\n",
    "    ax.set_ylabel('PCA2')\n",
    "    ax.set_zlabel('PCA3')\n",
    "    \n",
    "    # Show the plot\n",
    "    plt.show()"
   ]
  },
  {
   "cell_type": "code",
   "execution_count": null,
   "id": "fa8aedd5-d231-40a8-8e63-655c9382b880",
   "metadata": {},
   "outputs": [],
   "source": [
    "words = ['Cease', 'terminate', 'desist', 'Begin', 'Originate', \n",
    "         'Abundant', 'Plentiful', 'Scarce', 'Limited', 'Ample', 'Bountiful', 'Rare']"
   ]
  },
  {
   "cell_type": "code",
   "execution_count": null,
   "id": "794db7c1-fed5-49d7-90dd-3203e4a9a322",
   "metadata": {},
   "outputs": [],
   "source": [
    "plot_embeddings_3d(words)"
   ]
  },
  {
   "cell_type": "code",
   "execution_count": null,
   "id": "34d2e905-b03d-4aeb-af7b-752efaee21dd",
   "metadata": {},
   "outputs": [],
   "source": [
    "import weaviate\n",
    "import weaviate.classes.config as wc\n",
    "import weaviate.classes as wvc\n",
    "\n",
    "client = weaviate.connect_to_local()\n",
    "\n",
    "if not client.collections.exists(name = 'dev_day_demo'):\n",
    "    client.collections.create(name = 'dev_day_demo')\n",
    "\n",
    "collection = client.collections.get('dev_day_demo')"
   ]
  },
  {
   "cell_type": "code",
   "execution_count": null,
   "id": "338189af-a734-4e3d-8884-73460a70d145",
   "metadata": {},
   "outputs": [],
   "source": [
    "weaviate_docs = []\n",
    "\n",
    "for index, word in enumerate(words):\n",
    "    weaviate_doc = wvc.data.DataObject(\n",
    "        properties={\n",
    "            'message': word,\n",
    "        },\n",
    "        vector=list(ollama.embeddings(model='nomic-embed-text', prompt=word)['embedding'])\n",
    "    )\n",
    "    weaviate_docs.append(weaviate_doc)\n",
    "      "
   ]
  },
  {
   "cell_type": "code",
   "execution_count": null,
   "id": "73fce1f1-8880-453c-99b2-8b05987e5f2e",
   "metadata": {},
   "outputs": [],
   "source": [
    "collection.data.insert_many(weaviate_docs)"
   ]
  },
  {
   "cell_type": "code",
   "execution_count": null,
   "id": "60789ccc-db42-46ea-a578-75c166ca0ff0",
   "metadata": {},
   "outputs": [],
   "source": [
    "retrieved_docs = collection.query.near_vector(\n",
    "    near_vector=list(ollama.embeddings(model='nomic-embed-text', prompt='more than enough')['embedding']),\n",
    "    limit=2,\n",
    "    return_metadata=wvc.query.MetadataQuery(certainty=True)\n",
    ")\n",
    "\n",
    "[(o.properties['message'], o.metadata.certainty) for o in retrieved_docs.objects]\n"
   ]
  },
  {
   "cell_type": "code",
   "execution_count": null,
   "id": "5c25f33e-859c-4b30-b2af-f86f99523d58",
   "metadata": {},
   "outputs": [],
   "source": [
    "retrieved_docs = collection.query.near_vector(\n",
    "    near_vector=list(ollama.embeddings(model='nomic-embed-text', prompt='in short supply')['embedding']),\n",
    "    limit=2,\n",
    "    return_metadata=wvc.query.MetadataQuery(certainty=True)\n",
    ")\n",
    "\n",
    "[(o.properties['message'], o.metadata.certainty) for o in retrieved_docs.objects]"
   ]
  }
 ],
 "metadata": {
  "kernelspec": {
   "display_name": "Python 3 (ipykernel)",
   "language": "python",
   "name": "python3"
  },
  "language_info": {
   "codemirror_mode": {
    "name": "ipython",
    "version": 3
   },
   "file_extension": ".py",
   "mimetype": "text/x-python",
   "name": "python",
   "nbconvert_exporter": "python",
   "pygments_lexer": "ipython3",
   "version": "3.10.12"
  }
 },
 "nbformat": 4,
 "nbformat_minor": 5
}
