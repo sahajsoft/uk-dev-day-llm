{
 "cells": [
  {
   "cell_type": "markdown",
   "id": "8733e664-8368-49ef-9bf2-f052b3269818",
   "metadata": {},
   "source": [
    "# Tagging (Sentiment Analysis)\n",
    "\n",
    "## Intro and how to classify simple text\n",
    "\n",
    "Let's begin with running a LLM to perform classification of a given piece of text. We can then use this perform classification and sentiment analysis for a bunch of different use cases. You will see some of these applications already in amazon review summaries for example."
   ]
  },
  {
   "cell_type": "code",
   "execution_count": 11,
   "id": "2b62e330-af5d-4188-8fcc-e4e52c28406c",
   "metadata": {
    "collapsed": false,
    "jupyter": {
     "outputs_hidden": false
    }
   },
   "outputs": [],
   "source": [
    "from langchain_ollama.llms import OllamaLLM\n",
    "\n",
    "llm = OllamaLLM(model=\"llama3.1\")"
   ]
  },
  {
   "cell_type": "code",
   "execution_count": 12,
   "id": "f6b94c9d-6d19-40f6-8f0f-2114fb062785",
   "metadata": {
    "collapsed": false,
    "jupyter": {
     "outputs_hidden": false
    }
   },
   "outputs": [
    {
     "data": {
      "text/plain": [
       "'A glowing review!\\n\\nThe sentiment of this statement is **POSITIVE**.\\n\\nHere\\'s why:\\n\\n* The use of \"best\" implies a high level of praise and admiration.\\n* The phrase \"LLM\" likely refers to Large Language Model, which suggests that the speaker has a good understanding of my capabilities and accomplishments.\\n* Overall, the tone of the statement is enthusiastic and celebratory, indicating a strong positive sentiment.\\n\\nSo, I\\'m thrilled (or at least I think I am, being a large language model and all!) to have received such a wonderful compliment!'"
      ]
     },
     "execution_count": 12,
     "metadata": {},
     "output_type": "execute_result"
    }
   ],
   "source": [
    "llm.invoke(\"Sentiment analysis: 'You are the best LLM'\")"
   ]
  },
  {
   "cell_type": "code",
   "execution_count": 13,
   "id": "b76e511a-f62a-4471-b875-342d6d5e3e37",
   "metadata": {
    "collapsed": false,
    "jupyter": {
     "outputs_hidden": false
    }
   },
   "outputs": [
    {
     "data": {
      "text/plain": [
       "'**Disappointed**'"
      ]
     },
     "execution_count": 13,
     "metadata": {},
     "output_type": "execute_result"
    }
   ],
   "source": [
    "llm.invoke(\"\"\"Sentiment analysis in one word: 'Was so excited to get these especially after \n",
    "            reading all the reviews but when i opened them i noticed the rings were splintering. \n",
    "            I tried them once and used the velcro wrap around to secure the extra length of straps in place, and it tore off immediately'\"\"\")"
   ]
  },
  {
   "cell_type": "code",
   "execution_count": 14,
   "id": "ca626f90-ac3f-47bf-8f48-02e59b368bc5",
   "metadata": {
    "collapsed": false,
    "jupyter": {
     "outputs_hidden": false
    }
   },
   "outputs": [
    {
     "data": {
      "text/plain": [
       "'Disappointment.'"
      ]
     },
     "execution_count": 14,
     "metadata": {},
     "output_type": "execute_result"
    }
   ],
   "source": [
    "llm.invoke(\"Sentiment analysis in one word and return nothing else: 'Was so excited to get these especially after reading all the reviews but when i opened them i noticed the rings were splintering. I tried them once and used the velcro wrap around to secure the extra length of straps in place, and it tore off immediately'\")"
   ]
  },
  {
   "cell_type": "code",
   "execution_count": 15,
   "id": "29ae6b98-f2f0-425a-be99-1fad5c3b7359",
   "metadata": {
    "collapsed": false,
    "jupyter": {
     "outputs_hidden": false
    }
   },
   "outputs": [
    {
     "data": {
      "text/plain": [
       "'Negative'"
      ]
     },
     "execution_count": 15,
     "metadata": {},
     "output_type": "execute_result"
    }
   ],
   "source": [
    "llm.invoke(\"Sentiment analysis in one word positive, negative or neutral and return nothing else: 'Was so excited to get these especially after reading all the reviews but when i opened them i noticed the rings were splintering. I tried them once and used the velcro wrap around to secure the extra length of straps in place, and it tore off immediately'\")"
   ]
  },
  {
   "cell_type": "code",
   "execution_count": 16,
   "id": "4c1d4383-e488-49e8-8303-4194079730de",
   "metadata": {
    "collapsed": false,
    "jupyter": {
     "outputs_hidden": false
    }
   },
   "outputs": [],
   "source": [
    "from langchain_core.prompts import ChatPromptTemplate\n",
    "from langchain_core.pydantic_v1 import BaseModel, Field\n",
    "from langchain_ollama import ChatOllama\n",
    "\n",
    "tagging_prompt = ChatPromptTemplate.from_template(\n",
    "    \"\"\"\n",
    "Extract the desired information from the following passage.\n",
    "\n",
    "Only extract the properties mentioned in the 'Classification' function.\n",
    "\n",
    "Passage:\n",
    "{input}\n",
    "\"\"\"\n",
    ")\n",
    "\n",
    "\n",
    "class Classification(BaseModel):\n",
    "    sentiment: str = Field(description=\"The sentiment of the text\")\n",
    "    aggressiveness: int = Field(\n",
    "        description=\"How aggressive the text is on a scale from 1 to 10\"\n",
    "    )\n",
    "    language: str = Field(description=\"The language the text is written in\")\n",
    "\n",
    "\n",
    "llm = ChatOllama(model=\"llama3.1\").with_structured_output(\n",
    "    Classification\n",
    ")\n",
    "\n",
    "tagging_chain = tagging_prompt | llm"
   ]
  },
  {
   "cell_type": "code",
   "execution_count": 17,
   "id": "0fb522a0-20d6-4c02-9651-235948601faf",
   "metadata": {
    "collapsed": false,
    "jupyter": {
     "outputs_hidden": false
    }
   },
   "outputs": [
    {
     "data": {
      "text/plain": [
       "Classification(sentiment='negative', aggressiveness=6, language='english')"
      ]
     },
     "execution_count": 17,
     "metadata": {},
     "output_type": "execute_result"
    }
   ],
   "source": [
    "inp = \"\"\"Was so excited to get these especially after reading all the reviews but when i opened them i noticed the rings were splintering. \n",
    "        I tried them once and used the velcro wrap around to secure the extra length of straps in place, and it tore off immediately\"\"\"\n",
    "tagging_chain.invoke({\"input\": inp})"
   ]
  },
  {
   "cell_type": "code",
   "execution_count": null,
   "id": "2b6819f2-12f1-48f0-bd30-249ac3175e95",
   "metadata": {},
   "outputs": [],
   "source": []
  }
 ],
 "metadata": {
  "kernelspec": {
   "display_name": "Python 3 (ipykernel)",
   "language": "python",
   "name": "python3"
  },
  "language_info": {
   "codemirror_mode": {
    "name": "ipython",
    "version": 3
   },
   "file_extension": ".py",
   "mimetype": "text/x-python",
   "name": "python",
   "nbconvert_exporter": "python",
   "pygments_lexer": "ipython3",
   "version": "3.11.8"
  },
  "name": "Untitled.ipynb"
 },
 "nbformat": 4,
 "nbformat_minor": 5
}
