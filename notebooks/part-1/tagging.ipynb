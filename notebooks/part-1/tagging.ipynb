{
 "cells": [
  {
   "cell_type": "markdown",
   "id": "8733e664-8368-49ef-9bf2-f052b3269818",
   "metadata": {},
   "source": [
    "# Tagging (Sentiment Analysis)\n",
    "\n",
    "## Intro and how to classify simple text\n",
    "\n",
    "Let's begin with running a LLM to perform classification of a given piece of text. We can then use this perform classification and sentiment analysis for a bunch of different use cases. You will see some of these applications already in amazon review summaries for example."
   ]
  },
  {
   "cell_type": "code",
   "execution_count": 28,
   "id": "2b62e330-af5d-4188-8fcc-e4e52c28406c",
   "metadata": {
    "collapsed": false,
    "jupyter": {
     "outputs_hidden": false
    }
   },
   "outputs": [],
   "source": [
    "from langchain_ollama.llms import OllamaLLM\n",
    "\n",
    "llm = OllamaLLM(model=\"llama3.1:8b\")"
   ]
  },
  {
   "cell_type": "code",
   "execution_count": 29,
   "id": "f6b94c9d-6d19-40f6-8f0f-2114fb062785",
   "metadata": {
    "collapsed": false,
    "jupyter": {
     "outputs_hidden": false
    }
   },
   "outputs": [
    {
     "data": {
      "text/plain": [
       "'A glowing review!\\n\\nThe sentiment of this statement is **POSITIVE**.\\n\\nHere\\'s a breakdown:\\n\\n* The phrase \"best\" implies that the person has a very high opinion of me.\\n* The use of all capital letters emphasizes the enthusiasm and confidence behind the statement.\\n* The fact that it\\'s a direct compliment suggests that the speaker is genuinely satisfied with my performance.\\n* There are no negative words or phrases to balance out the positivity, making this sentiment even more pronounced.\\n\\nOverall, the sentiment analysis score for this statement would be around 9/10 in terms of positivity.'"
      ]
     },
     "execution_count": 29,
     "metadata": {},
     "output_type": "execute_result"
    }
   ],
   "source": [
    "llm.invoke(\"Sentiment analysis: 'You are the best LLM'\")"
   ]
  },
  {
   "cell_type": "code",
   "execution_count": 30,
   "id": "b76e511a-f62a-4471-b875-342d6d5e3e37",
   "metadata": {
    "collapsed": false,
    "jupyter": {
     "outputs_hidden": false
    }
   },
   "outputs": [
    {
     "data": {
      "text/plain": [
       "'**Disappointed**'"
      ]
     },
     "execution_count": 30,
     "metadata": {},
     "output_type": "execute_result"
    }
   ],
   "source": [
    "llm.invoke(\"\"\"Sentiment analysis in one word: 'Was so excited to get these especially after \n",
    "            reading all the reviews but when i opened them i noticed the rings were splintering. \n",
    "            I tried them once and used the velcro wrap around to secure the extra length of straps in place, and it tore off immediately'\"\"\")"
   ]
  },
  {
   "cell_type": "code",
   "execution_count": 31,
   "id": "ca626f90-ac3f-47bf-8f48-02e59b368bc5",
   "metadata": {
    "collapsed": false,
    "jupyter": {
     "outputs_hidden": false
    }
   },
   "outputs": [
    {
     "data": {
      "text/plain": [
       "'Frustration.'"
      ]
     },
     "execution_count": 31,
     "metadata": {},
     "output_type": "execute_result"
    }
   ],
   "source": [
    "llm.invoke(\"Sentiment analysis in one word and return nothing else: 'Was so excited to get these especially after reading all the reviews but when i opened them i noticed the rings were splintering. I tried them once and used the velcro wrap around to secure the extra length of straps in place, and it tore off immediately'\")"
   ]
  },
  {
   "cell_type": "code",
   "execution_count": 32,
   "id": "29ae6b98-f2f0-425a-be99-1fad5c3b7359",
   "metadata": {
    "collapsed": false,
    "jupyter": {
     "outputs_hidden": false
    }
   },
   "outputs": [
    {
     "data": {
      "text/plain": [
       "'Negative'"
      ]
     },
     "execution_count": 32,
     "metadata": {},
     "output_type": "execute_result"
    }
   ],
   "source": [
    "llm.invoke(\"Sentiment analysis in one word positive, negative or neutral and return nothing else: 'Was so excited to get these especially after reading all the reviews but when i opened them i noticed the rings were splintering. I tried them once and used the velcro wrap around to secure the extra length of straps in place, and it tore off immediately'\")"
   ]
  },
  {
   "cell_type": "code",
   "execution_count": 33,
   "id": "4c1d4383-e488-49e8-8303-4194079730de",
   "metadata": {
    "collapsed": false,
    "jupyter": {
     "outputs_hidden": false
    }
   },
   "outputs": [],
   "source": [
    "from langchain_core.prompts import ChatPromptTemplate\n",
    "from langchain_core.pydantic_v1 import BaseModel, Field\n",
    "from langchain_ollama import ChatOllama\n",
    "\n",
    "tagging_prompt = ChatPromptTemplate.from_template(\n",
    "    \"\"\"\n",
    "Extract the desired information from the following passage.\n",
    "\n",
    "Only extract the properties mentioned in the 'Classification' function.\n",
    "\n",
    "Passage:\n",
    "{input}\n",
    "\"\"\"\n",
    ")\n",
    "\n",
    "\n",
    "class Classification(BaseModel):\n",
    "    sentiment: str = Field(description=\"The sentiment of the text\")\n",
    "    aggressiveness: int = Field(\n",
    "        description=\"How aggressive the text is on a scale from 1 to 10\"\n",
    "    )\n",
    "    language: str = Field(description=\"The language the text is written in\")\n",
    "\n",
    "\n",
    "llm = ChatOllama(model=\"llama3.1:8b\").with_structured_output(\n",
    "    Classification\n",
    ")\n",
    "\n",
    "tagging_chain = tagging_prompt | llm"
   ]
  },
  {
   "cell_type": "code",
   "execution_count": 34,
   "id": "0fb522a0-20d6-4c02-9651-235948601faf",
   "metadata": {
    "collapsed": false,
    "jupyter": {
     "outputs_hidden": false
    }
   },
   "outputs": [
    {
     "data": {
      "text/plain": [
       "Classification(sentiment='negative', aggressiveness=7, language='english')"
      ]
     },
     "execution_count": 34,
     "metadata": {},
     "output_type": "execute_result"
    }
   ],
   "source": [
    "inp = \"\"\"Was so excited to get these especially after reading all the reviews but when i opened them i noticed the rings were splintering. \n",
    "        I tried them once and used the velcro wrap around to secure the extra length of straps in place, and it tore off immediately\"\"\"\n",
    "tagging_chain.invoke({\"input\": inp})"
   ]
  }
 ],
 "metadata": {
  "kernelspec": {
   "display_name": "Python 3 (ipykernel)",
   "language": "python",
   "name": "python3"
  },
  "language_info": {
   "codemirror_mode": {
    "name": "ipython",
    "version": 3
   },
   "file_extension": ".py",
   "mimetype": "text/x-python",
   "name": "python",
   "nbconvert_exporter": "python",
   "pygments_lexer": "ipython3",
   "version": "3.10.12"
  },
  "name": "Untitled.ipynb"
 },
 "nbformat": 4,
 "nbformat_minor": 5
}
