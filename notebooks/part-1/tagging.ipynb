{
 "cells": [
  {
   "cell_type": "markdown",
   "id": "8733e664-8368-49ef-9bf2-f052b3269818",
   "metadata": {},
   "source": [
    "# Tagging (Sentiment Analysis)\n",
    "\n",
    "## Intro and how to classify simple text\n",
    "\n",
    "Let's begin with running a LLM to perform classification of a given piece of text. We can then use this perform classification and sentiment analysis for a bunch of different use cases. You will see some of these applications already in amazon review summaries for example."
   ]
  },
  {
   "cell_type": "code",
   "execution_count": null,
   "id": "2b62e330-af5d-4188-8fcc-e4e52c28406c",
   "metadata": {
    "collapsed": false,
    "jupyter": {
     "outputs_hidden": false
    }
   },
   "outputs": [],
   "source": [
    "from langchain_ollama.llms import OllamaLLM\n",
    "\n",
    "llm = OllamaLLM(model=\"llama3.1:8b\")"
   ]
  },
  {
   "cell_type": "code",
   "execution_count": null,
   "id": "f6b94c9d-6d19-40f6-8f0f-2114fb062785",
   "metadata": {
    "collapsed": false,
    "jupyter": {
     "outputs_hidden": false
    }
   },
   "outputs": [],
   "source": [
    "llm.invoke(\"Sentiment analysis: 'You are the best LLM'\")"
   ]
  },
  {
   "cell_type": "code",
   "execution_count": null,
   "id": "b76e511a-f62a-4471-b875-342d6d5e3e37",
   "metadata": {
    "collapsed": false,
    "jupyter": {
     "outputs_hidden": false
    }
   },
   "outputs": [],
   "source": [
    "llm.invoke(\"\"\"Sentiment analysis in one word: 'Was so excited to get these especially after \n",
    "            reading all the reviews but when i opened them i noticed the rings were splintering. \n",
    "            I tried them once and used the velcro wrap around to secure the extra length of straps in place, and it tore off immediately'\"\"\")"
   ]
  },
  {
   "cell_type": "code",
   "execution_count": null,
   "id": "ca626f90-ac3f-47bf-8f48-02e59b368bc5",
   "metadata": {
    "collapsed": false,
    "jupyter": {
     "outputs_hidden": false
    }
   },
   "outputs": [],
   "source": [
    "llm.invoke(\"Sentiment analysis in one word and return nothing else: 'Was so excited to get these especially after reading all the reviews but when i opened them i noticed the rings were splintering. I tried them once and used the velcro wrap around to secure the extra length of straps in place, and it tore off immediately'\")"
   ]
  },
  {
   "cell_type": "code",
   "execution_count": null,
   "id": "29ae6b98-f2f0-425a-be99-1fad5c3b7359",
   "metadata": {
    "collapsed": false,
    "jupyter": {
     "outputs_hidden": false
    }
   },
   "outputs": [],
   "source": [
    "llm.invoke(\"Sentiment analysis in one word positive, negative or neutral and return nothing else: 'Was so excited to get these especially after reading all the reviews but when i opened them i noticed the rings were splintering. I tried them once and used the velcro wrap around to secure the extra length of straps in place, and it tore off immediately'\")"
   ]
  },
  {
   "cell_type": "code",
   "execution_count": null,
   "id": "4c1d4383-e488-49e8-8303-4194079730de",
   "metadata": {
    "collapsed": false,
    "jupyter": {
     "outputs_hidden": false
    }
   },
   "outputs": [],
   "source": [
    "from langchain_core.prompts import ChatPromptTemplate\n",
    "from langchain_core.pydantic_v1 import BaseModel, Field\n",
    "from langchain_ollama import ChatOllama\n",
    "\n",
    "tagging_prompt = ChatPromptTemplate.from_template(\n",
    "    \"\"\"\n",
    "Extract the desired information from the following passage.\n",
    "\n",
    "Only extract the properties mentioned in the 'Classification' function.\n",
    "\n",
    "Passage:\n",
    "{input}\n",
    "\"\"\"\n",
    ")\n",
    "\n",
    "\n",
    "class Classification(BaseModel):\n",
    "    sentiment: str = Field(description=\"The sentiment of the text\")\n",
    "    aggressiveness: int = Field(\n",
    "        description=\"How aggressive the text is on a scale from 1 to 10\"\n",
    "    )\n",
    "    language: str = Field(description=\"The language the text is written in\")\n",
    "\n",
    "\n",
    "llm = ChatOllama(model=\"llama3.1:8b\").with_structured_output(\n",
    "    Classification\n",
    ")\n",
    "\n",
    "tagging_chain = tagging_prompt | llm"
   ]
  },
  {
   "cell_type": "code",
   "execution_count": null,
   "id": "0fb522a0-20d6-4c02-9651-235948601faf",
   "metadata": {
    "collapsed": false,
    "jupyter": {
     "outputs_hidden": false
    }
   },
   "outputs": [],
   "source": [
    "inp = \"\"\"Was so excited to get these especially after reading all the reviews but when i opened them i noticed the rings were splintering. \n",
    "        I tried them once and used the velcro wrap around to secure the extra length of straps in place, and it tore off immediately\"\"\"\n",
    "tagging_chain.invoke({\"input\": inp})"
   ]
  }
 ],
 "metadata": {
  "kernelspec": {
   "display_name": "Python 3 (ipykernel)",
   "language": "python",
   "name": "python3"
  },
  "language_info": {
   "codemirror_mode": {
    "name": "ipython",
    "version": 3
   },
   "file_extension": ".py",
   "mimetype": "text/x-python",
   "name": "python",
   "nbconvert_exporter": "python",
   "pygments_lexer": "ipython3",
   "version": "3.10.12"
  },
  "name": "Untitled.ipynb"
 },
 "nbformat": 4,
 "nbformat_minor": 5
}
