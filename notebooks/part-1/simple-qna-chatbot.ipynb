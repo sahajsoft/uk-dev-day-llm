{
 "cells": [
  {
   "cell_type": "code",
   "execution_count": null,
   "id": "cbed1660-cbe1-4c33-9923-99ee4fc3e5e7",
   "metadata": {},
   "outputs": [],
   "source": [
    "from langchain_ollama.llms import OllamaLLM\n",
    "from langchain_ollama import ChatOllama\n",
    "from langchain_core.messages import AIMessage\n",
    "\n",
    "\n",
    "llm = ChatOllama( model=\"llama3.1:8b\", temperature=0)"
   ]
  },
  {
   "cell_type": "code",
   "execution_count": null,
   "id": "73103d54",
   "metadata": {},
   "outputs": [],
   "source": [
    "llm.invoke(\"Hello, can you tell me a joke?\")"
   ]
  },
  {
   "cell_type": "code",
   "execution_count": null,
   "id": "2a63fbdd",
   "metadata": {},
   "outputs": [],
   "source": [
    "from langchain.chains import ConversationChain\n",
    "from langchain.memory import ConversationBufferMemory\n",
    "\n",
    "memory = ConversationBufferMemory()\n",
    "chain = ConversationChain(llm=llm, memory=memory, verbose=True)\n",
    "\n",
    "chain(\"Hello, can you say just say hi?\")"
   ]
  },
  {
   "cell_type": "code",
   "execution_count": null,
   "id": "a0ed5036",
   "metadata": {},
   "outputs": [],
   "source": [
    "chain(\"just say hi nothing else\")"
   ]
  },
  {
   "cell_type": "code",
   "execution_count": null,
   "id": "67ee1e98",
   "metadata": {},
   "outputs": [],
   "source": [
    "chain(\"can u tell me a joke\")"
   ]
  },
  {
   "cell_type": "code",
   "execution_count": null,
   "id": "9aecd3e8",
   "metadata": {},
   "outputs": [],
   "source": [
    "chain(\"what was my first question\")"
   ]
  }
 ],
 "metadata": {
  "kernelspec": {
   "display_name": "Python 3 (ipykernel)",
   "language": "python",
   "name": "python3"
  },
  "language_info": {
   "codemirror_mode": {
    "name": "ipython",
    "version": 3
   },
   "file_extension": ".py",
   "mimetype": "text/x-python",
   "name": "python",
   "nbconvert_exporter": "python",
   "pygments_lexer": "ipython3",
   "version": "3.10.12"
  }
 },
 "nbformat": 4,
 "nbformat_minor": 5
}
