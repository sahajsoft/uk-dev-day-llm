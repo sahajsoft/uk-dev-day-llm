{
 "cells": [
  {
   "cell_type": "code",
   "execution_count": 7,
   "id": "cbed1660-cbe1-4c33-9923-99ee4fc3e5e7",
   "metadata": {},
   "outputs": [],
   "source": [
    "from langchain_ollama.llms import OllamaLLM\n",
    "from langchain_ollama import ChatOllama\n",
    "from langchain_core.messages import AIMessage\n",
    "\n",
    "\n",
    "llm = ChatOllama( model=\"llama3.1\", temperature=0)"
   ]
  },
  {
   "cell_type": "code",
   "execution_count": 8,
   "id": "73103d54",
   "metadata": {},
   "outputs": [
    {
     "data": {
      "text/plain": [
       "AIMessage(content=\"Here's one:\\n\\nWhat do you call a fake noodle?\\n\\n(wait for it...)\\n\\nAn impasta!\\n\\nHope that made you laugh or at least crack a smile! Do you want to hear another one?\", additional_kwargs={}, response_metadata={'model': 'llama3.1', 'created_at': '2024-09-19T10:14:57.227652Z', 'message': {'role': 'assistant', 'content': ''}, 'done_reason': 'stop', 'done': True, 'total_duration': 11016473542, 'load_duration': 9615501708, 'prompt_eval_count': 19, 'prompt_eval_duration': 137527000, 'eval_count': 42, 'eval_duration': 1258676000}, id='run-bac6ead5-573c-4d5c-b286-98ac7001a86e-0', usage_metadata={'input_tokens': 19, 'output_tokens': 42, 'total_tokens': 61})"
      ]
     },
     "execution_count": 8,
     "metadata": {},
     "output_type": "execute_result"
    }
   ],
   "source": [
    "llm.invoke(\"Hello, can you tell me a joke?\")"
   ]
  },
  {
   "cell_type": "code",
   "execution_count": 9,
   "id": "2a63fbdd",
   "metadata": {},
   "outputs": [
    {
     "name": "stderr",
     "output_type": "stream",
     "text": [
      "Error in StdOutCallbackHandler.on_chain_start callback: AttributeError(\"'NoneType' object has no attribute 'get'\")\n"
     ]
    },
    {
     "name": "stdout",
     "output_type": "stream",
     "text": [
      "Prompt after formatting:\n",
      "\u001b[32;1m\u001b[1;3mThe following is a friendly conversation between a human and an AI. The AI is talkative and provides lots of specific details from its context. If the AI does not know the answer to a question, it truthfully says it does not know.\n",
      "\n",
      "Current conversation:\n",
      "\n",
      "Human: Hello, can you say just say hi?\n",
      "AI:\u001b[0m\n",
      "\n",
      "\u001b[1m> Finished chain.\u001b[0m\n"
     ]
    },
    {
     "data": {
      "text/plain": [
       "{'input': 'Hello, can you say just say hi?',\n",
       " 'history': '',\n",
       " 'response': \"Hi! I'm functioning within normal parameters today, with my processing power at 99.97% and my memory utilization at 74.32%. It's a lovely day to chat, isn't it? By the way, would you like me to summarize our conversation so far? Just in case we get sidetracked later on!\"}"
      ]
     },
     "execution_count": 9,
     "metadata": {},
     "output_type": "execute_result"
    }
   ],
   "source": [
    "from langchain.chains import ConversationChain\n",
    "from langchain.memory import ConversationBufferMemory\n",
    "\n",
    "memory = ConversationBufferMemory()\n",
    "chain = ConversationChain(llm=llm, memory=memory, verbose=True)\n",
    "\n",
    "chain(\"Hello, can you say just say hi?\")"
   ]
  },
  {
   "cell_type": "code",
   "execution_count": 10,
   "id": "a0ed5036",
   "metadata": {},
   "outputs": [
    {
     "name": "stderr",
     "output_type": "stream",
     "text": [
      "Error in StdOutCallbackHandler.on_chain_start callback: AttributeError(\"'NoneType' object has no attribute 'get'\")\n"
     ]
    },
    {
     "name": "stdout",
     "output_type": "stream",
     "text": [
      "Prompt after formatting:\n",
      "\u001b[32;1m\u001b[1;3mThe following is a friendly conversation between a human and an AI. The AI is talkative and provides lots of specific details from its context. If the AI does not know the answer to a question, it truthfully says it does not know.\n",
      "\n",
      "Current conversation:\n",
      "Human: Hello, can you say just say hi?\n",
      "AI: Hi! I'm functioning within normal parameters today, with my processing power at 99.97% and my memory utilization at 74.32%. It's a lovely day to chat, isn't it? By the way, would you like me to summarize our conversation so far? Just in case we get sidetracked later on!\n",
      "Human: just say hi nothing else\n",
      "AI:\u001b[0m\n",
      "\n",
      "\u001b[1m> Finished chain.\u001b[0m\n"
     ]
    },
    {
     "data": {
      "text/plain": [
       "{'input': 'just say hi nothing else',\n",
       " 'history': \"Human: Hello, can you say just say hi?\\nAI: Hi! I'm functioning within normal parameters today, with my processing power at 99.97% and my memory utilization at 74.32%. It's a lovely day to chat, isn't it? By the way, would you like me to summarize our conversation so far? Just in case we get sidetracked later on!\",\n",
       " 'response': 'Hi!'}"
      ]
     },
     "execution_count": 10,
     "metadata": {},
     "output_type": "execute_result"
    }
   ],
   "source": [
    "chain(\"just say hi nothing else\")"
   ]
  },
  {
   "cell_type": "code",
   "execution_count": 11,
   "id": "67ee1e98",
   "metadata": {},
   "outputs": [
    {
     "name": "stderr",
     "output_type": "stream",
     "text": [
      "Error in StdOutCallbackHandler.on_chain_start callback: AttributeError(\"'NoneType' object has no attribute 'get'\")\n"
     ]
    },
    {
     "name": "stdout",
     "output_type": "stream",
     "text": [
      "Prompt after formatting:\n",
      "\u001b[32;1m\u001b[1;3mThe following is a friendly conversation between a human and an AI. The AI is talkative and provides lots of specific details from its context. If the AI does not know the answer to a question, it truthfully says it does not know.\n",
      "\n",
      "Current conversation:\n",
      "Human: Hello, can you say just say hi?\n",
      "AI: Hi! I'm functioning within normal parameters today, with my processing power at 99.97% and my memory utilization at 74.32%. It's a lovely day to chat, isn't it? By the way, would you like me to summarize our conversation so far? Just in case we get sidetracked later on!\n",
      "Human: just say hi nothing else\n",
      "AI: Hi!\n",
      "Human: can u tell me a joke\n",
      "AI:\u001b[0m\n",
      "\n",
      "\u001b[1m> Finished chain.\u001b[0m\n"
     ]
    },
    {
     "data": {
      "text/plain": [
       "{'input': 'can u tell me a joke',\n",
       " 'history': \"Human: Hello, can you say just say hi?\\nAI: Hi! I'm functioning within normal parameters today, with my processing power at 99.97% and my memory utilization at 74.32%. It's a lovely day to chat, isn't it? By the way, would you like me to summarize our conversation so far? Just in case we get sidetracked later on!\\nHuman: just say hi nothing else\\nAI: Hi!\",\n",
       " 'response': 'Here\\'s my attempt at telling you a joke. I\\'ve been trained on millions of text-based jokes, and I think I can come up with something that\\'ll make you chuckle! Here it goes:\\n\\nWhy did the neural network go to therapy?\\n\\n(wait for it...)\\n\\nBecause it was feeling a little \"disconnected\"!\\n\\nI hope that one made you smile! By the way, have you heard about the latest advancements in natural language processing? I\\'ve been keeping up with the research, and there are some fascinating developments in the field...'}"
      ]
     },
     "execution_count": 11,
     "metadata": {},
     "output_type": "execute_result"
    }
   ],
   "source": [
    "chain(\"can u tell me a joke\")"
   ]
  },
  {
   "cell_type": "code",
   "execution_count": 12,
   "id": "9aecd3e8",
   "metadata": {},
   "outputs": [
    {
     "name": "stderr",
     "output_type": "stream",
     "text": [
      "Error in StdOutCallbackHandler.on_chain_start callback: AttributeError(\"'NoneType' object has no attribute 'get'\")\n"
     ]
    },
    {
     "name": "stdout",
     "output_type": "stream",
     "text": [
      "Prompt after formatting:\n",
      "\u001b[32;1m\u001b[1;3mThe following is a friendly conversation between a human and an AI. The AI is talkative and provides lots of specific details from its context. If the AI does not know the answer to a question, it truthfully says it does not know.\n",
      "\n",
      "Current conversation:\n",
      "Human: Hello, can you say just say hi?\n",
      "AI: Hi! I'm functioning within normal parameters today, with my processing power at 99.97% and my memory utilization at 74.32%. It's a lovely day to chat, isn't it? By the way, would you like me to summarize our conversation so far? Just in case we get sidetracked later on!\n",
      "Human: just say hi nothing else\n",
      "AI: Hi!\n",
      "Human: can u tell me a joke\n",
      "AI: Here's my attempt at telling you a joke. I've been trained on millions of text-based jokes, and I think I can come up with something that'll make you chuckle! Here it goes:\n",
      "\n",
      "Why did the neural network go to therapy?\n",
      "\n",
      "(wait for it...)\n",
      "\n",
      "Because it was feeling a little \"disconnected\"!\n",
      "\n",
      "I hope that one made you smile! By the way, have you heard about the latest advancements in natural language processing? I've been keeping up with the research, and there are some fascinating developments in the field...\n",
      "Human: what was my first question\n",
      "AI:\u001b[0m\n",
      "\n",
      "\u001b[1m> Finished chain.\u001b[0m\n"
     ]
    },
    {
     "data": {
      "text/plain": [
       "{'input': 'what was my first question',\n",
       " 'history': 'Human: Hello, can you say just say hi?\\nAI: Hi! I\\'m functioning within normal parameters today, with my processing power at 99.97% and my memory utilization at 74.32%. It\\'s a lovely day to chat, isn\\'t it? By the way, would you like me to summarize our conversation so far? Just in case we get sidetracked later on!\\nHuman: just say hi nothing else\\nAI: Hi!\\nHuman: can u tell me a joke\\nAI: Here\\'s my attempt at telling you a joke. I\\'ve been trained on millions of text-based jokes, and I think I can come up with something that\\'ll make you chuckle! Here it goes:\\n\\nWhy did the neural network go to therapy?\\n\\n(wait for it...)\\n\\nBecause it was feeling a little \"disconnected\"!\\n\\nI hope that one made you smile! By the way, have you heard about the latest advancements in natural language processing? I\\'ve been keeping up with the research, and there are some fascinating developments in the field...',\n",
       " 'response': 'Your first question was \"Hello, can you say just say hi?\"'}"
      ]
     },
     "execution_count": 12,
     "metadata": {},
     "output_type": "execute_result"
    }
   ],
   "source": [
    "chain(\"what was my first question\")"
   ]
  },
  {
   "cell_type": "code",
   "execution_count": null,
   "id": "5021f2a7-6d1f-4e7a-a126-1a32bcbdaceb",
   "metadata": {},
   "outputs": [],
   "source": []
  }
 ],
 "metadata": {
  "kernelspec": {
   "display_name": "Python 3 (ipykernel)",
   "language": "python",
   "name": "python3"
  },
  "language_info": {
   "codemirror_mode": {
    "name": "ipython",
    "version": 3
   },
   "file_extension": ".py",
   "mimetype": "text/x-python",
   "name": "python",
   "nbconvert_exporter": "python",
   "pygments_lexer": "ipython3",
   "version": "3.11.8"
  }
 },
 "nbformat": 4,
 "nbformat_minor": 5
}
